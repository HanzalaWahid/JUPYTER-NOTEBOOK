{
  "nbformat": 4,
  "nbformat_minor": 0,
  "metadata": {
    "colab": {
      "provenance": [],
      "authorship_tag": "ABX9TyPLDmcMxFbwka/aWkywXGIP",
      "include_colab_link": true
    },
    "kernelspec": {
      "name": "python3",
      "display_name": "Python 3"
    },
    "language_info": {
      "name": "python"
    }
  },
  "cells": [
    {
      "cell_type": "markdown",
      "metadata": {
        "id": "view-in-github",
        "colab_type": "text"
      },
      "source": [
        "<a href=\"https://colab.research.google.com/github/HanzalaWahid/JUPYTER-NOTEBOOK/blob/main/XOR_Problem.ipynb\" target=\"_parent\"><img src=\"https://colab.research.google.com/assets/colab-badge.svg\" alt=\"Open In Colab\"/></a>"
      ]
    },
    {
      "cell_type": "code",
      "execution_count": 4,
      "metadata": {
        "colab": {
          "base_uri": "https://localhost:8080/"
        },
        "id": "TdpPhPW5PFs4",
        "outputId": "f14fd1ca-5f06-402e-f861-a923dd8bc49f"
      },
      "outputs": [
        {
          "output_type": "stream",
          "name": "stdout",
          "text": [
            "Predicted Output:\n",
            "[[0.06]\n",
            " [0.94]\n",
            " [0.94]\n",
            " [0.06]]\n"
          ]
        }
      ],
      "source": [
        "import numpy as np\n",
        "X = np.array([[0,0],[0,1],[1,0],[1,1]])\n",
        "y = np.array([[0],[1],[1],[0]])\n",
        "\n",
        "def sigmoid(x):\n",
        "  return 1/(1+ np.exp(-x))\n",
        "def sigmoid_derivatives(x):\n",
        "  return x * (1 - x)\n",
        "\n",
        "np.random.seed(1)\n",
        "input_layer_neuron = 2\n",
        "hidden_layer_neuron = 2\n",
        "output_neurons = 1\n",
        "\n",
        "wh = np.random.uniform(size =(input_layer_neuron , hidden_layer_neuron))\n",
        "bh = np.random.uniform(size = (1 , hidden_layer_neuron))\n",
        "wo = np.random.uniform(size = (input_layer_neuron , output_neurons))\n",
        "bo = np.random.uniform(size = (1 , output_neurons))\n",
        "\n",
        "epochs = 10000\n",
        "lr = 0.1\n",
        "\n",
        "for epoch in range(epochs):\n",
        "  hidden_input = np.dot(X , wh ) + bh\n",
        "  hidden_output =  sigmoid(hidden_input)\n",
        "\n",
        "  output_input = np.dot(hidden_output , wo) +  bo\n",
        "  predicted_output = sigmoid(output_input)\n",
        "\n",
        "  error = y - predicted_output\n",
        "  d_output = error * sigmoid_derivatives(predicted_output)\n",
        "\n",
        "  error_hidden = d_output.dot(wo.T)\n",
        "  d_hidden = error_hidden * sigmoid_derivatives(hidden_output)\n",
        "\n",
        "\n",
        "  wo += hidden_output.T.dot(d_output) * lr\n",
        "  bo += np.sum(d_output, axis=0, keepdims=True) * lr\n",
        "  wh += X.T.dot(d_hidden) * lr\n",
        "  bh += np.sum(d_hidden, axis=0, keepdims=True) * lr\n",
        "\n",
        "# Final output\n",
        "print(\"Predicted Output:\")\n",
        "print(predicted_output.round(2))\n",
        "\n"
      ]
    }
  ]
}